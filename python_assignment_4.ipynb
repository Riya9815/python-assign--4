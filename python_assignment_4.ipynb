{
  "nbformat": 4,
  "nbformat_minor": 0,
  "metadata": {
    "colab": {
      "name": "python assignment 4",
      "provenance": []
    },
    "kernelspec": {
      "name": "python3",
      "display_name": "Python 3"
    },
    "language_info": {
      "name": "python"
    }
  },
  "cells": [
    {
      "cell_type": "code",
      "metadata": {
        "colab": {
          "base_uri": "https://localhost:8080/"
        },
        "id": "HwwnyvNyu-7K",
        "outputId": "4dbd133a-7896-41e5-a7e5-7e9bf3c68a52"
      },
      "source": [
        "#Program to implement reduce function \n",
        "def myreduce(num):\n",
        "    l=list(range(1,number+1))\n",
        "    sum=0\n",
        "    for element in l:\n",
        "        sum+=element\n",
        "        \n",
        "    return l,sum\n",
        "\n",
        "number=int(input(\"enter the number of natural numbers: \"))\n",
        "output_value=myreduce(number)\n",
        "\n",
        "print(\"Natural numbers :\",output_value[0])\n",
        "print(\"Sum of natural numbers  are :\",output_value[1])"
      ],
      "execution_count": 49,
      "outputs": [
        {
          "output_type": "stream",
          "text": [
            "enter the number of natural numbers: 7\n",
            "Natural numbers : [1, 2, 3, 4, 5, 6, 7]\n",
            "Sum of natural numbers  are : 28\n"
          ],
          "name": "stdout"
        }
      ]
    },
    {
      "cell_type": "code",
      "metadata": {
        "colab": {
          "base_uri": "https://localhost:8080/"
        },
        "id": "wB_ZE1PNmHWO",
        "outputId": "66b26e52-fc7c-4e11-c54e-9438500e7a49"
      },
      "source": [
        "a=5\n",
        "b=4\n",
        " \n",
        "# using reduce to compute sum of list\n",
        "print(\"The sum of the list elements is : \", end=\"\")\n",
        "y=lambda a, b: a+b\n",
        "print(y)"
      ],
      "execution_count": null,
      "outputs": [
        {
          "output_type": "stream",
          "text": [
            "The sum of the list elements is : <function <lambda> at 0x7fcaeee87050>\n"
          ],
          "name": "stdout"
        }
      ]
    },
    {
      "cell_type": "code",
      "metadata": {
        "colab": {
          "base_uri": "https://localhost:8080/"
        },
        "id": "9yvMYXOsvYud",
        "outputId": "a3cb1f3c-370a-4495-b460-87ce964e6def"
      },
      "source": [
        "#sum of natural numbers using lambda function with reduce \n",
        "print(\"Input:\")\n",
        "number=int(input(\"Please insert the number :\"))\n",
        "\n",
        "num_list= list(range(1,(number+1)))\n",
        "# Import reduce function \n",
        "from functools import reduce\n",
        "sum_of_elements = reduce((lambda x, y: x + y), num_list)\n",
        "\n",
        "#Output\n",
        "print(\"Output:\")\n",
        "print(\"List of First n Natural numbers are:\",num_list)\n",
        "print(\"Sum of List elements are :\",sum_of_elements)"
      ],
      "execution_count": null,
      "outputs": [
        {
          "output_type": "stream",
          "text": [
            "Input:\n",
            "Please insert the number :6\n",
            "Output:\n",
            "List of First n Natural numbers are: [1, 2, 3, 4, 5, 6]\n",
            "Sum of List elements are : 21\n"
          ],
          "name": "stdout"
        }
      ]
    },
    {
      "cell_type": "code",
      "metadata": {
        "colab": {
          "base_uri": "https://localhost:8080/"
        },
        "id": "BZeSoeuLwcJa",
        "outputId": "9ac9faf2-4b37-40b0-9774-0c21dcb98b5c"
      },
      "source": [
        "#Program to filter out multiples of 7 from a list of natural numbers\n",
        "number=int(input(\"Please insert the number: \"))\n",
        "num_list=list(range(1,number+1))\n",
        "def myfilter(num_list):\n",
        "    divisible_by_seven=[]\n",
        "\n",
        "    \n",
        "    for element in num_list:\n",
        "        if(element%7==0):\n",
        "                divisible_by_seven.append(element)\n",
        "                \n",
        "    return divisible_by_seven\n",
        "output_value=myfilter(num_list)\n",
        "print(\"List of numbers:\",num_list)\n",
        "print(\"List of numbers, which are even multiples of 7 : \",output_value)"
      ],
      "execution_count": null,
      "outputs": [
        {
          "output_type": "stream",
          "text": [
            "Please insert the number: 14\n",
            "List of numbers: [1, 2, 3, 4, 5, 6, 7, 8, 9, 10, 11, 12, 13, 14]\n",
            "List of numbers, which are even multiples of 7 :  [7, 14]\n"
          ],
          "name": "stdout"
        }
      ]
    },
    {
      "cell_type": "code",
      "metadata": {
        "colab": {
          "base_uri": "https://localhost:8080/"
        },
        "id": "yyGnTtHRz5v2",
        "outputId": "e4a045f8-b2fa-4e10-b589-2ea0617b7b42"
      },
      "source": [
        "# Filter function with lambda function to find multiples of 7\n",
        "number=int(input(\"Please insert the number: \"))\n",
        "\n",
        "num_list=list(range(1,number+1))\n",
        "\n",
        "divisible_by_seven=list(filter(lambda x: x%7==0,num_list))\n",
        "\n",
        "print(\"List of numbers:\",num_list)\n",
        "print(\"List of Even numbers, which are multiples of 7 are:\",divisible_by_seven)\n"
      ],
      "execution_count": null,
      "outputs": [
        {
          "output_type": "stream",
          "text": [
            "Please insert the number: 10\n",
            "List of numbers: [1, 2, 3, 4, 5, 6, 7, 8, 9, 10]\n",
            "List of Even numbers, which are multiples of 7 are: [7]\n"
          ],
          "name": "stdout"
        }
      ]
    },
    {
      "cell_type": "code",
      "metadata": {
        "id": "fdcBKSGG3FYG",
        "colab": {
          "base_uri": "https://localhost:8080/"
        },
        "outputId": "6d64b8a0-c2be-4160-eac3-a9c1e60e596b"
      },
      "source": [
        "7#Solution\n",
        "\n",
        "#Section 1\n",
        "word=\"AcadGild\"\n",
        "#list Comprehension\n",
        "output_list=[w.upper() for w in list(word)]\n",
        "print(\"Output:\")\n",
        "print(output_list)\n",
        "\n",
        "#Section 2\n",
        "word_1=list('xyz')\n",
        "word_2=[x*n for x in word_1 for n in range(1,5) ]\n",
        "print(word_2)\n",
        "\n",
        "#Section 3\n",
        "word_3=[x*n for n in range(1,5) for x in word_1 ]\n",
        "print(word_3)\n",
        "\n",
        "#Section 4\n",
        "number=[2,3,4]\n",
        "number_1=[[x+n] for x in number for n in range(0,3)]\n",
        "print(number_1)\n",
        "\n",
        "#Section 5\n",
        "number_2=[2,3,4,5]\n",
        "number_3=[[x+n for n in range(0,4)] for x in number_2 ]\n",
        "print(number_3)\n",
        "\n",
        "#Section 6\n",
        "number_4=[1,2,3]\n",
        "number_5= [(b,a) for a in number_4 for b in number_4]\n",
        "print(number_5)\n"
      ],
      "execution_count": null,
      "outputs": [
        {
          "output_type": "stream",
          "text": [
            "Output:\n",
            "['A', 'C', 'A', 'D', 'G', 'I', 'L', 'D']\n",
            "['x', 'xx', 'xxx', 'xxxx', 'y', 'yy', 'yyy', 'yyyy', 'z', 'zz', 'zzz', 'zzzz']\n",
            "['x', 'y', 'z', 'xx', 'yy', 'zz', 'xxx', 'yyy', 'zzz', 'xxxx', 'yyyy', 'zzzz']\n",
            "[[2], [3], [4], [3], [4], [5], [4], [5], [6]]\n",
            "[[2, 3, 4, 5], [3, 4, 5, 6], [4, 5, 6, 7], [5, 6, 7, 8]]\n",
            "[(1, 1), (2, 1), (3, 1), (1, 2), (2, 2), (3, 2), (1, 3), (2, 3), (3, 3)]\n"
          ],
          "name": "stdout"
        }
      ]
    },
    {
      "cell_type": "code",
      "metadata": {
        "id": "jviuEHUd0zLi"
      },
      "source": [
        ""
      ],
      "execution_count": null,
      "outputs": []
    },
    {
      "cell_type": "code",
      "metadata": {
        "id": "vCErLaI-3cIU"
      },
      "source": [
        ""
      ],
      "execution_count": 50,
      "outputs": []
    },
    {
      "cell_type": "code",
      "metadata": {
        "id": "HRdD3R0G3_nk"
      },
      "source": [
        ""
      ],
      "execution_count": null,
      "outputs": []
    },
    {
      "cell_type": "code",
      "metadata": {
        "id": "WHKDxMe84Q5l"
      },
      "source": [
        ""
      ],
      "execution_count": null,
      "outputs": []
    },
    {
      "cell_type": "code",
      "metadata": {
        "id": "yf5X-pRo4SKX"
      },
      "source": [
        ""
      ],
      "execution_count": null,
      "outputs": []
    }
  ]
}